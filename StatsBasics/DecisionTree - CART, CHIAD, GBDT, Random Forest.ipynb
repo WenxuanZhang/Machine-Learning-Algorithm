{
 "cells": [
  {
   "cell_type": "markdown",
   "metadata": {},
   "source": [
    "# CART Tree"
   ]
  },
  {
   "cell_type": "code",
   "execution_count": 4,
   "metadata": {},
   "outputs": [
    {
     "data": {
      "text/plain": [
       "array([[ 0.,  1.]])"
      ]
     },
     "execution_count": 4,
     "metadata": {},
     "output_type": "execute_result"
    }
   ],
   "source": [
    "# Implement the Tree Algorithm with Credit Default Data \n",
    "\n",
    "# scikit learn package provide us the tree method for Categorical and Regression Tree\n",
    "from sklearn import tree\n",
    "X = [[0, 0], [1, 1]]\n",
    "Y = [0, 1]\n",
    "clf = tree.DecisionTreeClassifier()\n",
    "clf = clf.fit(X, Y)\n",
    "clf.predict_proba([[2., 2.]])"
   ]
  },
  {
   "cell_type": "markdown",
   "metadata": {},
   "source": [
    "[Python EDA](http://pythonplot.com)"
   ]
  },
  {
   "cell_type": "code",
   "execution_count": 47,
   "metadata": {},
   "outputs": [
    {
     "data": {
      "text/html": [
       "<div>\n",
       "<style>\n",
       "    .dataframe thead tr:only-child th {\n",
       "        text-align: right;\n",
       "    }\n",
       "\n",
       "    .dataframe thead th {\n",
       "        text-align: left;\n",
       "    }\n",
       "\n",
       "    .dataframe tbody tr th {\n",
       "        vertical-align: top;\n",
       "    }\n",
       "</style>\n",
       "<table border=\"1\" class=\"dataframe\">\n",
       "  <thead>\n",
       "    <tr style=\"text-align: right;\">\n",
       "      <th></th>\n",
       "      <th>sepal length (cm)</th>\n",
       "      <th>sepal width (cm)</th>\n",
       "      <th>petal length (cm)</th>\n",
       "      <th>petal width (cm)</th>\n",
       "      <th>target</th>\n",
       "    </tr>\n",
       "  </thead>\n",
       "  <tbody>\n",
       "    <tr>\n",
       "      <th>count</th>\n",
       "      <td>150.000000</td>\n",
       "      <td>150.000000</td>\n",
       "      <td>150.000000</td>\n",
       "      <td>150.000000</td>\n",
       "      <td>150.000000</td>\n",
       "    </tr>\n",
       "    <tr>\n",
       "      <th>mean</th>\n",
       "      <td>5.843333</td>\n",
       "      <td>3.054000</td>\n",
       "      <td>3.758667</td>\n",
       "      <td>1.198667</td>\n",
       "      <td>1.000000</td>\n",
       "    </tr>\n",
       "    <tr>\n",
       "      <th>std</th>\n",
       "      <td>0.828066</td>\n",
       "      <td>0.433594</td>\n",
       "      <td>1.764420</td>\n",
       "      <td>0.763161</td>\n",
       "      <td>0.819232</td>\n",
       "    </tr>\n",
       "    <tr>\n",
       "      <th>min</th>\n",
       "      <td>4.300000</td>\n",
       "      <td>2.000000</td>\n",
       "      <td>1.000000</td>\n",
       "      <td>0.100000</td>\n",
       "      <td>0.000000</td>\n",
       "    </tr>\n",
       "    <tr>\n",
       "      <th>25%</th>\n",
       "      <td>5.100000</td>\n",
       "      <td>2.800000</td>\n",
       "      <td>1.600000</td>\n",
       "      <td>0.300000</td>\n",
       "      <td>0.000000</td>\n",
       "    </tr>\n",
       "    <tr>\n",
       "      <th>50%</th>\n",
       "      <td>5.800000</td>\n",
       "      <td>3.000000</td>\n",
       "      <td>4.350000</td>\n",
       "      <td>1.300000</td>\n",
       "      <td>1.000000</td>\n",
       "    </tr>\n",
       "    <tr>\n",
       "      <th>75%</th>\n",
       "      <td>6.400000</td>\n",
       "      <td>3.300000</td>\n",
       "      <td>5.100000</td>\n",
       "      <td>1.800000</td>\n",
       "      <td>2.000000</td>\n",
       "    </tr>\n",
       "    <tr>\n",
       "      <th>max</th>\n",
       "      <td>7.900000</td>\n",
       "      <td>4.400000</td>\n",
       "      <td>6.900000</td>\n",
       "      <td>2.500000</td>\n",
       "      <td>2.000000</td>\n",
       "    </tr>\n",
       "  </tbody>\n",
       "</table>\n",
       "</div>"
      ],
      "text/plain": [
       "       sepal length (cm)  sepal width (cm)  petal length (cm)  \\\n",
       "count         150.000000        150.000000         150.000000   \n",
       "mean            5.843333          3.054000           3.758667   \n",
       "std             0.828066          0.433594           1.764420   \n",
       "min             4.300000          2.000000           1.000000   \n",
       "25%             5.100000          2.800000           1.600000   \n",
       "50%             5.800000          3.000000           4.350000   \n",
       "75%             6.400000          3.300000           5.100000   \n",
       "max             7.900000          4.400000           6.900000   \n",
       "\n",
       "       petal width (cm)      target  \n",
       "count        150.000000  150.000000  \n",
       "mean           1.198667    1.000000  \n",
       "std            0.763161    0.819232  \n",
       "min            0.100000    0.000000  \n",
       "25%            0.300000    0.000000  \n",
       "50%            1.300000    1.000000  \n",
       "75%            1.800000    2.000000  \n",
       "max            2.500000    2.000000  "
      ]
     },
     "execution_count": 47,
     "metadata": {},
     "output_type": "execute_result"
    }
   ],
   "source": [
    "# Exploratory Data Analysis in iris Data\n",
    "from sklearn.datasets import load_iris\n",
    "from sklearn import tree\n",
    "iris = load_iris()\n",
    "# Single variable hist & summary stats\n",
    "iris.data\n",
    "# other variable, correlations\n",
    "# first let us transform the numpy structure into pandas, so that we could leverage some method.\n",
    "import pandas as pd\n",
    "import numpy as np\n",
    "data = np.concatenate((iris.data[0:,0:], iris.target.reshape(150,1)), axis=1)\n",
    "new_iris = pd.DataFrame(data=data,columns =iris.feature_names + ['target'])\n",
    "new_iris.describe()"
   ]
  },
  {
   "cell_type": "code",
   "execution_count": 52,
   "metadata": {},
   "outputs": [
    {
     "data": {
      "text/plain": [
       "array(['setosa', 'versicolor', 'virginica'],\n",
       "      dtype='|S10')"
      ]
     },
     "execution_count": 52,
     "metadata": {},
     "output_type": "execute_result"
    }
   ],
   "source": [
    "iris.target_names"
   ]
  },
  {
   "cell_type": "code",
   "execution_count": 74,
   "metadata": {},
   "outputs": [
    {
     "data": {
      "image/jpeg": "[encoded data removed]",
      "text/plain": [
       "<IPython.core.display.Image object>"
      ]
     },
     "execution_count": 74,
     "metadata": {},
     "output_type": "execute_result"
    }
   ],
   "source": [
    "# here let us have some example of what these flowers are \n",
    "# Setosa\n",
    "from IPython.display import Image\n",
    "from IPython.core.display import HTML \n",
    "\n",
    "#Image(url= \"http://wiki.irises.org/pub/Spec/SpecSetosa/DN-I-SETOSA_-TALL_BLUE_CLUMP_copy_edited-1.jpg\")\n",
    "Image(filename= \"setosa.jpg\")\n"
   ]
  },
  {
   "cell_type": "code",
   "execution_count": 73,
   "metadata": {
    "scrolled": false
   },
   "outputs": [
    {
     "data": {
      "image/jpeg": "[encoded data removed]",
      "text/plain": [
       "<IPython.core.display.Image object>"
      ]
     },
     "execution_count": 73,
     "metadata": {},
     "output_type": "execute_result"
    }
   ],
   "source": [
    "#ipython notebook \n",
    "# list all stuff in the folder\n",
    "# import os\n",
    "# files = [f for f in os.listdir('.') if os.path.isfile(f)]\n",
    "# files\n",
    "Image(filename= \"versicolor.jpg\")\n",
    "\n"
   ]
  },
  {
   "cell_type": "markdown",
   "metadata": {},
   "source": [
    "#### verginica\n",
    "![verginica](virginica.jpg)"
   ]
  },
  {
   "cell_type": "markdown",
   "metadata": {},
   "source": [
    "The iris data set is a dataset contains 150 observations and 4 variables, sepal length, sepal width, petal length, petal width. Fisher introduced this dataset in his research in the [linear discriminate analysis](https://en.wikipedia.org/wiki/Linear_discriminant_analysis). It is then widely used as a test case such as support vector machine. This dataset is also called Anderson's iris dataset becasue Edgar Anderson collected data to quantify the morphologic variation of iris flower of related species."
   ]
  },
  {
   "cell_type": "code",
   "execution_count": 230,
   "metadata": {
    "scrolled": false
   },
   "outputs": [
    {
     "name": "stdout",
     "output_type": "stream",
     "text": [
      "(0, 0)\n"
     ]
    },
    {
     "name": "stderr",
     "output_type": "stream",
     "text": [
      "/Users/wenxuanzhang/anaconda/lib/python2.7/site-packages/ipykernel_launcher.py:29: FutureWarning: reshape is deprecated and will raise in a subsequent release. Please use .values.reshape(...) instead\n"
     ]
    },
    {
     "name": "stdout",
     "output_type": "stream",
     "text": [
      "(0, 1)\n",
      "(1, 0)\n",
      "(1, 1)\n"
     ]
    },
    {
     "data": {
      "image/png": "[encoded data removed]",
      "text/plain": [
       "<matplotlib.figure.Figure at 0x110677e50>"
      ]
     },
     "metadata": {},
     "output_type": "display_data"
    }
   ],
   "source": [
    "%matplotlib inline\n",
    "# Hisgram\n",
    "rows, columns = new_iris.shape\n",
    "# nbins = 20\n",
    "# (new_iris.iloc[:,1]\n",
    "#  .plot\n",
    "#  .hist(bins=nbins))\n",
    "\n",
    "#new_iris sort by target\n",
    "new_iris.sort_values(by=['target'])\n",
    "#reshape new_iris\n",
    "new_iris=new_iris.sort_values(by=['target'])\n",
    "\n",
    "\n",
    "\n",
    "import matplotlib.pyplot as plt\n",
    "\n",
    "#fig, ax = plt.subplots(columns/2,2 , sharex='col', sharey='row')\n",
    "fig, ax = plt.subplots(columns/2-1,2 , sharex='col', sharey='row')\n",
    "\n",
    "k = 0\n",
    "labels = ['setosa', 'versicolor', 'virginica']\n",
    "\n",
    "\n",
    "\n",
    "for i in range(2):\n",
    "    for j in range(columns/2-1):\n",
    "        print(i,j)\n",
    "        data = new_iris.iloc[:,k].reshape(rows/3,3)\n",
    "        title = iris.feature_names[k]\n",
    "        ax[i, j].hist(data,nbins,histtype='bar', stacked=True,label=labels)\n",
    "        ax[i,j].set_title(title)\n",
    "        ax[i,j].legend(prop={'size': 10})\n",
    "        k = k + 1\n",
    "\n",
    "# k = 0  \n",
    "# axes = axes.flatten()\n",
    "# iris.feature_names\n",
    "# axes[1].text(1,0.3,'hi')\n",
    "\n",
    "# for ax in axes:\n",
    "#     title = iris.feature_names[k]\n",
    "#     plt.hist(new_iris.iloc[:,k],nbins)\n",
    "#     k = k + 1\n",
    "\n",
    "#ax1.hist(x, n_bins, density=True, histtype='bar', stacked=True)\n"
   ]
  },
  {
   "cell_type": "code",
   "execution_count": 213,
   "metadata": {},
   "outputs": [
    {
     "data": {
      "text/html": [
       "<div>\n",
       "<style>\n",
       "    .dataframe thead tr:only-child th {\n",
       "        text-align: right;\n",
       "    }\n",
       "\n",
       "    .dataframe thead th {\n",
       "        text-align: left;\n",
       "    }\n",
       "\n",
       "    .dataframe tbody tr th {\n",
       "        vertical-align: top;\n",
       "    }\n",
       "</style>\n",
       "<table border=\"1\" class=\"dataframe\">\n",
       "  <thead>\n",
       "    <tr>\n",
       "      <th>g</th>\n",
       "      <th colspan=\"4\" halign=\"left\">0</th>\n",
       "      <th colspan=\"4\" halign=\"left\">1</th>\n",
       "      <th colspan=\"2\" halign=\"left\">2</th>\n",
       "      <th>...</th>\n",
       "      <th colspan=\"2\" halign=\"left\">47</th>\n",
       "      <th colspan=\"4\" halign=\"left\">48</th>\n",
       "      <th colspan=\"4\" halign=\"left\">49</th>\n",
       "    </tr>\n",
       "    <tr>\n",
       "      <th></th>\n",
       "      <th>sepal length (cm)</th>\n",
       "      <th>sepal width (cm)</th>\n",
       "      <th>petal length (cm)</th>\n",
       "      <th>petal width (cm)</th>\n",
       "      <th>sepal length (cm)</th>\n",
       "      <th>sepal width (cm)</th>\n",
       "      <th>petal length (cm)</th>\n",
       "      <th>petal width (cm)</th>\n",
       "      <th>sepal length (cm)</th>\n",
       "      <th>sepal width (cm)</th>\n",
       "      <th>...</th>\n",
       "      <th>petal length (cm)</th>\n",
       "      <th>petal width (cm)</th>\n",
       "      <th>sepal length (cm)</th>\n",
       "      <th>sepal width (cm)</th>\n",
       "      <th>petal length (cm)</th>\n",
       "      <th>petal width (cm)</th>\n",
       "      <th>sepal length (cm)</th>\n",
       "      <th>sepal width (cm)</th>\n",
       "      <th>petal length (cm)</th>\n",
       "      <th>petal width (cm)</th>\n",
       "    </tr>\n",
       "    <tr>\n",
       "      <th>target</th>\n",
       "      <th></th>\n",
       "      <th></th>\n",
       "      <th></th>\n",
       "      <th></th>\n",
       "      <th></th>\n",
       "      <th></th>\n",
       "      <th></th>\n",
       "      <th></th>\n",
       "      <th></th>\n",
       "      <th></th>\n",
       "      <th></th>\n",
       "      <th></th>\n",
       "      <th></th>\n",
       "      <th></th>\n",
       "      <th></th>\n",
       "      <th></th>\n",
       "      <th></th>\n",
       "      <th></th>\n",
       "      <th></th>\n",
       "      <th></th>\n",
       "      <th></th>\n",
       "    </tr>\n",
       "  </thead>\n",
       "  <tbody>\n",
       "    <tr>\n",
       "      <th>0.0</th>\n",
       "      <td>5.1</td>\n",
       "      <td>3.5</td>\n",
       "      <td>1.4</td>\n",
       "      <td>0.2</td>\n",
       "      <td>5.3</td>\n",
       "      <td>3.7</td>\n",
       "      <td>1.5</td>\n",
       "      <td>0.2</td>\n",
       "      <td>5.1</td>\n",
       "      <td>3.4</td>\n",
       "      <td>...</td>\n",
       "      <td>1.4</td>\n",
       "      <td>0.2</td>\n",
       "      <td>4.8</td>\n",
       "      <td>3.1</td>\n",
       "      <td>1.6</td>\n",
       "      <td>0.2</td>\n",
       "      <td>5.0</td>\n",
       "      <td>3.3</td>\n",
       "      <td>1.4</td>\n",
       "      <td>0.2</td>\n",
       "    </tr>\n",
       "    <tr>\n",
       "      <th>1.0</th>\n",
       "      <td>6.6</td>\n",
       "      <td>2.9</td>\n",
       "      <td>4.6</td>\n",
       "      <td>1.3</td>\n",
       "      <td>6.1</td>\n",
       "      <td>2.9</td>\n",
       "      <td>4.7</td>\n",
       "      <td>1.4</td>\n",
       "      <td>4.9</td>\n",
       "      <td>2.4</td>\n",
       "      <td>...</td>\n",
       "      <td>3.7</td>\n",
       "      <td>1.0</td>\n",
       "      <td>5.5</td>\n",
       "      <td>2.4</td>\n",
       "      <td>3.8</td>\n",
       "      <td>1.1</td>\n",
       "      <td>5.0</td>\n",
       "      <td>2.3</td>\n",
       "      <td>3.3</td>\n",
       "      <td>1.0</td>\n",
       "    </tr>\n",
       "    <tr>\n",
       "      <th>2.0</th>\n",
       "      <td>6.7</td>\n",
       "      <td>2.5</td>\n",
       "      <td>5.8</td>\n",
       "      <td>1.8</td>\n",
       "      <td>7.3</td>\n",
       "      <td>2.9</td>\n",
       "      <td>6.3</td>\n",
       "      <td>1.8</td>\n",
       "      <td>4.9</td>\n",
       "      <td>2.5</td>\n",
       "      <td>...</td>\n",
       "      <td>4.8</td>\n",
       "      <td>1.8</td>\n",
       "      <td>6.7</td>\n",
       "      <td>3.0</td>\n",
       "      <td>5.2</td>\n",
       "      <td>2.3</td>\n",
       "      <td>5.9</td>\n",
       "      <td>3.0</td>\n",
       "      <td>5.1</td>\n",
       "      <td>1.8</td>\n",
       "    </tr>\n",
       "  </tbody>\n",
       "</table>\n",
       "<p>3 rows × 200 columns</p>\n",
       "</div>"
      ],
      "text/plain": [
       "g                     0                                                       \\\n",
       "       sepal length (cm) sepal width (cm) petal length (cm) petal width (cm)   \n",
       "target                                                                         \n",
       "0.0                  5.1              3.5               1.4              0.2   \n",
       "1.0                  6.6              2.9               4.6              1.3   \n",
       "2.0                  6.7              2.5               5.8              1.8   \n",
       "\n",
       "g                     1                                                       \\\n",
       "       sepal length (cm) sepal width (cm) petal length (cm) petal width (cm)   \n",
       "target                                                                         \n",
       "0.0                  5.3              3.7               1.5              0.2   \n",
       "1.0                  6.1              2.9               4.7              1.4   \n",
       "2.0                  7.3              2.9               6.3              1.8   \n",
       "\n",
       "g                     2                         ...                       47  \\\n",
       "       sepal length (cm) sepal width (cm)       ...        petal length (cm)   \n",
       "target                                          ...                            \n",
       "0.0                  5.1              3.4       ...                      1.4   \n",
       "1.0                  4.9              2.4       ...                      3.7   \n",
       "2.0                  4.9              2.5       ...                      4.8   \n",
       "\n",
       "g                                      48                                     \\\n",
       "       petal width (cm) sepal length (cm) sepal width (cm) petal length (cm)   \n",
       "target                                                                         \n",
       "0.0                 0.2               4.8              3.1               1.6   \n",
       "1.0                 1.0               5.5              2.4               3.8   \n",
       "2.0                 1.8               6.7              3.0               5.2   \n",
       "\n",
       "g                                      49                                     \\\n",
       "       petal width (cm) sepal length (cm) sepal width (cm) petal length (cm)   \n",
       "target                                                                         \n",
       "0.0                 0.2               5.0              3.3               1.4   \n",
       "1.0                 1.1               5.0              2.3               3.3   \n",
       "2.0                 2.3               5.9              3.0               5.1   \n",
       "\n",
       "g                        \n",
       "       petal width (cm)  \n",
       "target                   \n",
       "0.0                 0.2  \n",
       "1.0                 1.0  \n",
       "2.0                 1.8  \n",
       "\n",
       "[3 rows x 200 columns]"
      ]
     },
     "execution_count": 213,
     "metadata": {},
     "output_type": "execute_result"
    }
   ],
   "source": [
    "# new_iris=new_iris.sort_values(by=['target'])\n",
    "\n",
    "# new_iris['g'] = new_iris.groupby('target')['target'].cumcount()\n",
    "# df1 = (new_iris.set_index(['target','g']).stack()\n",
    "#         .unstack([1,2]))\n",
    "# #         .rename_axis(None)\n",
    "# #         .rename_axis(('year','cols'), axis=1))\n",
    "# df1"
   ]
  },
  {
   "cell_type": "markdown",
   "metadata": {},
   "source": [
    "* [Multiple Subplot](https://matplotlib.org/api/_as_gen/matplotlib.pyplot.subplot.html)\n",
    "\n",
    "* [Python histogram by different color](https://matplotlib.org/1.3.0/examples/pylab_examples/histogram_demo_extended.html)"
   ]
  },
  {
   "cell_type": "code",
   "execution_count": 183,
   "metadata": {
    "scrolled": true
   },
   "outputs": [
    {
     "data": {
      "text/html": [
       "<div>\n",
       "<style>\n",
       "    .dataframe thead tr:only-child th {\n",
       "        text-align: right;\n",
       "    }\n",
       "\n",
       "    .dataframe thead th {\n",
       "        text-align: left;\n",
       "    }\n",
       "\n",
       "    .dataframe tbody tr th {\n",
       "        vertical-align: top;\n",
       "    }\n",
       "</style>\n",
       "<table border=\"1\" class=\"dataframe\">\n",
       "  <thead>\n",
       "    <tr style=\"text-align: right;\">\n",
       "      <th>target</th>\n",
       "      <th>0.0</th>\n",
       "      <th>1.0</th>\n",
       "      <th>2.0</th>\n",
       "    </tr>\n",
       "  </thead>\n",
       "  <tbody>\n",
       "    <tr>\n",
       "      <th>petal length (cm)</th>\n",
       "      <td>1.464</td>\n",
       "      <td>4.260</td>\n",
       "      <td>5.552</td>\n",
       "    </tr>\n",
       "    <tr>\n",
       "      <th>petal width (cm)</th>\n",
       "      <td>0.244</td>\n",
       "      <td>1.326</td>\n",
       "      <td>2.026</td>\n",
       "    </tr>\n",
       "    <tr>\n",
       "      <th>sepal length (cm)</th>\n",
       "      <td>5.006</td>\n",
       "      <td>5.936</td>\n",
       "      <td>6.588</td>\n",
       "    </tr>\n",
       "    <tr>\n",
       "      <th>sepal width (cm)</th>\n",
       "      <td>3.418</td>\n",
       "      <td>2.770</td>\n",
       "      <td>2.974</td>\n",
       "    </tr>\n",
       "  </tbody>\n",
       "</table>\n",
       "</div>"
      ],
      "text/plain": [
       "target               0.0    1.0    2.0\n",
       "petal length (cm)  1.464  4.260  5.552\n",
       "petal width (cm)   0.244  1.326  2.026\n",
       "sepal length (cm)  5.006  5.936  6.588\n",
       "sepal width (cm)   3.418  2.770  2.974"
      ]
     },
     "execution_count": 183,
     "metadata": {},
     "output_type": "execute_result"
    }
   ],
   "source": [
    "# In order to fill data by differnt type, we need to fill in the data\n",
    "pd.pivot_table(new_iris,columns=['target'])"
   ]
  },
  {
   "cell_type": "code",
   "execution_count": 197,
   "metadata": {
    "scrolled": true
   },
   "outputs": [
    {
     "data": {
      "text/plain": [
       "target\n",
       "0.0    50\n",
       "1.0    50\n",
       "2.0    50\n",
       "dtype: int64"
      ]
     },
     "execution_count": 197,
     "metadata": {},
     "output_type": "execute_result"
    }
   ],
   "source": [
    "iris['target']=pd.Categorical(iris['target'])\n",
    "group_name = new_iris.groupby(['target'])\n",
    "group_name.size()\n"
   ]
  },
  {
   "cell_type": "markdown",
   "metadata": {},
   "source": [
    "[Data Group_by Pivot Table](https://www.digitalocean.com/community/tutorials/data-analysis-and-visualization-with-pandas-and-jupyter-notebook-in-python-3)"
   ]
  },
  {
   "cell_type": "markdown",
   "metadata": {},
   "source": [
    "help(pd.pivot)"
   ]
  },
  {
   "cell_type": "code",
   "execution_count": 225,
   "metadata": {},
   "outputs": [
    {
     "data": {
      "image/png": "[encoded data removed]",
      "text/plain": [
       "<matplotlib.figure.Figure at 0x11191ed90>"
      ]
     },
     "metadata": {},
     "output_type": "display_data"
    }
   ],
   "source": [
    "import numpy as np\n",
    "import matplotlib.pyplot as plt\n",
    "\n",
    "np.random.seed(19680801)\n",
    "\n",
    "n_bins = 10\n",
    "x = np.random.randn(1000, 3)\n",
    "\n",
    "fig, axes = plt.subplots(nrows=2, ncols=2)\n",
    "ax0, ax1, ax2, ax3 = axes.flatten()\n",
    "\n",
    "colors = ['red', 'tan', 'lime']\n",
    "ax0.hist(x, n_bins,  histtype='bar', color=colors, label=colors)\n",
    "ax0.legend(prop={'size': 10})\n",
    "ax0.set_title('bars with legend')\n",
    "\n",
    "ax1.hist(x, n_bins, histtype='bar', stacked=True)\n",
    "ax1.set_title('stacked bar')\n",
    "\n",
    "ax2.hist(x, n_bins, histtype='step', stacked=True, fill=False)\n",
    "ax2.set_title('stack step (unfilled)')\n",
    "\n",
    "# Make a multiple-histogram of data-sets with different length.\n",
    "x_multi = [np.random.randn(n) for n in [10000, 5000, 2000]]\n",
    "ax3.hist(x_multi, n_bins, histtype='bar')\n",
    "ax3.set_title('different sample sizes')\n",
    "\n",
    "fig.tight_layout()\n",
    "plt.show()"
   ]
  },
  {
   "cell_type": "markdown",
   "metadata": {},
   "source": [
    "1. [How to draw multiple subplot matplot](https://jakevdp.github.io/PythonDataScienceHandbook/04.08-multiple-subplots.html)"
   ]
  },
  {
   "cell_type": "code",
   "execution_count": 91,
   "metadata": {},
   "outputs": [
    {
     "data": {
      "image/png": "[encoded data removed]",
      "text/plain": [
       "<matplotlib.figure.Figure at 0x10f87f850>"
      ]
     },
     "metadata": {},
     "output_type": "display_data"
    }
   ],
   "source": [
    "from matplotlib import pyplot as PLT\n",
    "\n",
    "fig = PLT.figure()\n",
    "\n",
    "ax1 = fig.add_subplot(211)\n",
    "ax1.plot([(1, 2), (3, 4)], [(4, 3), (2, 3)])\n",
    "\n",
    "ax2 = fig.add_subplot(212)\n",
    "ax2.plot([(7, 2), (5, 3)], [(1, 6), (9, 5)])\n",
    "\n",
    "PLT.show()"
   ]
  },
  {
   "cell_type": "code",
   "execution_count": null,
   "metadata": {
    "collapsed": true
   },
   "outputs": [],
   "source": [
    "# Correlation Plot"
   ]
  },
  {
   "cell_type": "code",
   "execution_count": null,
   "metadata": {
    "collapsed": true
   },
   "outputs": [],
   "source": [
    "# "
   ]
  },
  {
   "cell_type": "code",
   "execution_count": 85,
   "metadata": {
    "scrolled": true
   },
   "outputs": [
    {
     "data": {
      "image/svg+xml": [
       "<?xml version=\"1.0\" encoding=\"UTF-8\" standalone=\"no\"?>\n",
       "<!DOCTYPE svg PUBLIC \"-//W3C//DTD SVG 1.1//EN\"\n",
       " \"http://www.w3.org/Graphics/SVG/1.1/DTD/svg11.dtd\">\n",
       "<!-- Generated by graphviz version 2.40.1 (20161225.0304)\n",
       " -->\n",
       "<!-- Title: Tree Pages: 1 -->\n",
       "<svg width=\"879pt\" height=\"642pt\"\n",
       " viewBox=\"0.00 0.00 878.83 642.00\" xmlns=\"http://www.w3.org/2000/svg\" xmlns:xlink=\"http://www.w3.org/1999/xlink\">\n",
       "<g id=\"graph0\" class=\"graph\" transform=\"scale(1 1) rotate(0) translate(4 638)\">\n",
       "<title>Tree</title>\n",
       "<polygon fill=\"#ffffff\" stroke=\"transparent\" points=\"-4,4 -4,-638 874.8306,-638 874.8306,4 -4,4\"/>\n",
       "<!-- 0 -->\n",
       "<g id=\"node1\" class=\"node\">\n",
       "<title>0</title>\n",
       "<path fill=\"transparent\" stroke=\"#000000\" d=\"M526.3569,-634C526.3569,-634 387.3979,-634 387.3979,-634 381.3979,-634 375.3979,-628 375.3979,-622 375.3979,-622 375.3979,-568 375.3979,-568 375.3979,-562 381.3979,-556 387.3979,-556 387.3979,-556 526.3569,-556 526.3569,-556 532.3569,-556 538.3569,-562 538.3569,-568 538.3569,-568 538.3569,-622 538.3569,-622 538.3569,-628 532.3569,-634 526.3569,-634\"/>\n",
       "<text text-anchor=\"start\" x=\"383.3877\" y=\"-618.8\" font-family=\"Helvetica,sans-Serif\" font-size=\"14.00\" fill=\"#000000\">petal length (cm) ≤ 2.45</text>\n",
       "<text text-anchor=\"start\" x=\"416.5933\" y=\"-604.8\" font-family=\"Helvetica,sans-Serif\" font-size=\"14.00\" fill=\"#000000\">gini = 0.6667</text>\n",
       "<text text-anchor=\"start\" x=\"411.1553\" y=\"-590.8\" font-family=\"Helvetica,sans-Serif\" font-size=\"14.00\" fill=\"#000000\">samples = 150</text>\n",
       "<text text-anchor=\"start\" x=\"397.1382\" y=\"-576.8\" font-family=\"Helvetica,sans-Serif\" font-size=\"14.00\" fill=\"#000000\">value = [50, 50, 50]</text>\n",
       "<text text-anchor=\"start\" x=\"412.3276\" y=\"-562.8\" font-family=\"Helvetica,sans-Serif\" font-size=\"14.00\" fill=\"#000000\">class = setosa</text>\n",
       "</g>\n",
       "<!-- 1 -->\n",
       "<g id=\"node2\" class=\"node\">\n",
       "<title>1</title>\n",
       "<path fill=\"#e58139\" stroke=\"#000000\" d=\"M426.7837,-513C426.7837,-513 330.9712,-513 330.9712,-513 324.9712,-513 318.9712,-507 318.9712,-501 318.9712,-501 318.9712,-461 318.9712,-461 318.9712,-455 324.9712,-449 330.9712,-449 330.9712,-449 426.7837,-449 426.7837,-449 432.7837,-449 438.7837,-455 438.7837,-461 438.7837,-461 438.7837,-501 438.7837,-501 438.7837,-507 432.7837,-513 426.7837,-513\"/>\n",
       "<text text-anchor=\"start\" x=\"350.2725\" y=\"-497.8\" font-family=\"Helvetica,sans-Serif\" font-size=\"14.00\" fill=\"#000000\">gini = 0.0</text>\n",
       "<text text-anchor=\"start\" x=\"337.0483\" y=\"-483.8\" font-family=\"Helvetica,sans-Serif\" font-size=\"14.00\" fill=\"#000000\">samples = 50</text>\n",
       "<text text-anchor=\"start\" x=\"326.9243\" y=\"-469.8\" font-family=\"Helvetica,sans-Serif\" font-size=\"14.00\" fill=\"#000000\">value = [50, 0, 0]</text>\n",
       "<text text-anchor=\"start\" x=\"334.3276\" y=\"-455.8\" font-family=\"Helvetica,sans-Serif\" font-size=\"14.00\" fill=\"#000000\">class = setosa</text>\n",
       "</g>\n",
       "<!-- 0&#45;&gt;1 -->\n",
       "<g id=\"edge1\" class=\"edge\">\n",
       "<title>0&#45;&gt;1</title>\n",
       "<path fill=\"none\" stroke=\"#000000\" d=\"M430.0343,-555.7677C422.4491,-544.6817 414.1823,-532.5994 406.5494,-521.4436\"/>\n",
       "<polygon fill=\"#000000\" stroke=\"#000000\" points=\"409.3933,-519.4019 400.8578,-513.1252 403.6161,-523.3547 409.3933,-519.4019\"/>\n",
       "<text text-anchor=\"middle\" x=\"396.2506\" y=\"-533.497\" font-family=\"Helvetica,sans-Serif\" font-size=\"14.00\" fill=\"#000000\">True</text>\n",
       "</g>\n",
       "<!-- 2 -->\n",
       "<g id=\"node3\" class=\"node\">\n",
       "<title>2</title>\n",
       "<path fill=\"transparent\" stroke=\"#000000\" d=\"M602.3958,-520C602.3958,-520 469.3591,-520 469.3591,-520 463.3591,-520 457.3591,-514 457.3591,-508 457.3591,-508 457.3591,-454 457.3591,-454 457.3591,-448 463.3591,-442 469.3591,-442 469.3591,-442 602.3958,-442 602.3958,-442 608.3958,-442 614.3958,-448 614.3958,-454 614.3958,-454 614.3958,-508 614.3958,-508 614.3958,-514 608.3958,-520 602.3958,-520\"/>\n",
       "<text text-anchor=\"start\" x=\"465.1187\" y=\"-504.8\" font-family=\"Helvetica,sans-Serif\" font-size=\"14.00\" fill=\"#000000\">petal width (cm) ≤ 1.75</text>\n",
       "<text text-anchor=\"start\" x=\"507.2725\" y=\"-490.8\" font-family=\"Helvetica,sans-Serif\" font-size=\"14.00\" fill=\"#000000\">gini = 0.5</text>\n",
       "<text text-anchor=\"start\" x=\"490.1553\" y=\"-476.8\" font-family=\"Helvetica,sans-Serif\" font-size=\"14.00\" fill=\"#000000\">samples = 100</text>\n",
       "<text text-anchor=\"start\" x=\"480.0313\" y=\"-462.8\" font-family=\"Helvetica,sans-Serif\" font-size=\"14.00\" fill=\"#000000\">value = [0, 50, 50]</text>\n",
       "<text text-anchor=\"start\" x=\"482\" y=\"-448.8\" font-family=\"Helvetica,sans-Serif\" font-size=\"14.00\" fill=\"#000000\">class = versicolor</text>\n",
       "</g>\n",
       "<!-- 0&#45;&gt;2 -->\n",
       "<g id=\"edge2\" class=\"edge\">\n",
       "<title>0&#45;&gt;2</title>\n",
       "<path fill=\"none\" stroke=\"#000000\" d=\"M484.0648,-555.7677C490.0853,-547.0798 496.5298,-537.7801 502.7571,-528.794\"/>\n",
       "<polygon fill=\"#000000\" stroke=\"#000000\" points=\"505.8209,-530.5176 508.64,-520.3046 500.0673,-526.5304 505.8209,-530.5176\"/>\n",
       "<text text-anchor=\"middle\" x=\"513.1009\" y=\"-540.7034\" font-family=\"Helvetica,sans-Serif\" font-size=\"14.00\" fill=\"#000000\">False</text>\n",
       "</g>\n",
       "<!-- 3 -->\n",
       "<g id=\"node4\" class=\"node\">\n",
       "<title>3</title>\n",
       "<path fill=\"#39e581\" fill-opacity=\"0.898039\" stroke=\"#000000\" d=\"M491.3569,-406C491.3569,-406 352.3979,-406 352.3979,-406 346.3979,-406 340.3979,-400 340.3979,-394 340.3979,-394 340.3979,-340 340.3979,-340 340.3979,-334 346.3979,-328 352.3979,-328 352.3979,-328 491.3569,-328 491.3569,-328 497.3569,-328 503.3569,-334 503.3569,-340 503.3569,-340 503.3569,-394 503.3569,-394 503.3569,-400 497.3569,-406 491.3569,-406\"/>\n",
       "<text text-anchor=\"start\" x=\"348.3877\" y=\"-390.8\" font-family=\"Helvetica,sans-Serif\" font-size=\"14.00\" fill=\"#000000\">petal length (cm) ≤ 4.95</text>\n",
       "<text text-anchor=\"start\" x=\"385.4863\" y=\"-376.8\" font-family=\"Helvetica,sans-Serif\" font-size=\"14.00\" fill=\"#000000\">gini = 0.168</text>\n",
       "<text text-anchor=\"start\" x=\"380.0483\" y=\"-362.8\" font-family=\"Helvetica,sans-Serif\" font-size=\"14.00\" fill=\"#000000\">samples = 54</text>\n",
       "<text text-anchor=\"start\" x=\"369.9243\" y=\"-348.8\" font-family=\"Helvetica,sans-Serif\" font-size=\"14.00\" fill=\"#000000\">value = [0, 49, 5]</text>\n",
       "<text text-anchor=\"start\" x=\"368\" y=\"-334.8\" font-family=\"Helvetica,sans-Serif\" font-size=\"14.00\" fill=\"#000000\">class = versicolor</text>\n",
       "</g>\n",
       "<!-- 2&#45;&gt;3 -->\n",
       "<g id=\"edge3\" class=\"edge\">\n",
       "<title>2&#45;&gt;3</title>\n",
       "<path fill=\"none\" stroke=\"#000000\" d=\"M496.6451,-441.7677C487.5094,-432.632 477.6972,-422.8198 468.2844,-413.407\"/>\n",
       "<polygon fill=\"#000000\" stroke=\"#000000\" points=\"470.7281,-410.9009 461.1821,-406.3046 465.7783,-415.8506 470.7281,-410.9009\"/>\n",
       "</g>\n",
       "<!-- 12 -->\n",
       "<g id=\"node13\" class=\"node\">\n",
       "<title>12</title>\n",
       "<path fill=\"#8139e5\" fill-opacity=\"0.976471\" stroke=\"#000000\" d=\"M719.3569,-406C719.3569,-406 580.3979,-406 580.3979,-406 574.3979,-406 568.3979,-400 568.3979,-394 568.3979,-394 568.3979,-340 568.3979,-340 568.3979,-334 574.3979,-328 580.3979,-328 580.3979,-328 719.3569,-328 719.3569,-328 725.3569,-328 731.3569,-334 731.3569,-340 731.3569,-340 731.3569,-394 731.3569,-394 731.3569,-400 725.3569,-406 719.3569,-406\"/>\n",
       "<text text-anchor=\"start\" x=\"576.3877\" y=\"-390.8\" font-family=\"Helvetica,sans-Serif\" font-size=\"14.00\" fill=\"#000000\">petal length (cm) ≤ 4.85</text>\n",
       "<text text-anchor=\"start\" x=\"609.5933\" y=\"-376.8\" font-family=\"Helvetica,sans-Serif\" font-size=\"14.00\" fill=\"#000000\">gini = 0.0425</text>\n",
       "<text text-anchor=\"start\" x=\"608.0483\" y=\"-362.8\" font-family=\"Helvetica,sans-Serif\" font-size=\"14.00\" fill=\"#000000\">samples = 46</text>\n",
       "<text text-anchor=\"start\" x=\"597.9243\" y=\"-348.8\" font-family=\"Helvetica,sans-Serif\" font-size=\"14.00\" fill=\"#000000\">value = [0, 1, 45]</text>\n",
       "<text text-anchor=\"start\" x=\"600.2759\" y=\"-334.8\" font-family=\"Helvetica,sans-Serif\" font-size=\"14.00\" fill=\"#000000\">class = virginica</text>\n",
       "</g>\n",
       "<!-- 2&#45;&gt;12 -->\n",
       "<g id=\"edge12\" class=\"edge\">\n",
       "<title>2&#45;&gt;12</title>\n",
       "<path fill=\"none\" stroke=\"#000000\" d=\"M575.1098,-441.7677C584.2454,-432.632 594.0577,-422.8198 603.4705,-413.407\"/>\n",
       "<polygon fill=\"#000000\" stroke=\"#000000\" points=\"605.9766,-415.8506 610.5728,-406.3046 601.0268,-410.9009 605.9766,-415.8506\"/>\n",
       "</g>\n",
       "<!-- 4 -->\n",
       "<g id=\"node5\" class=\"node\">\n",
       "<title>4</title>\n",
       "<path fill=\"#39e581\" fill-opacity=\"0.980392\" stroke=\"#000000\" d=\"M265.3958,-292C265.3958,-292 132.3591,-292 132.3591,-292 126.3591,-292 120.3591,-286 120.3591,-280 120.3591,-280 120.3591,-226 120.3591,-226 120.3591,-220 126.3591,-214 132.3591,-214 132.3591,-214 265.3958,-214 265.3958,-214 271.3958,-214 277.3958,-220 277.3958,-226 277.3958,-226 277.3958,-280 277.3958,-280 277.3958,-286 271.3958,-292 265.3958,-292\"/>\n",
       "<text text-anchor=\"start\" x=\"128.1187\" y=\"-276.8\" font-family=\"Helvetica,sans-Serif\" font-size=\"14.00\" fill=\"#000000\">petal width (cm) ≤ 1.65</text>\n",
       "<text text-anchor=\"start\" x=\"158.5933\" y=\"-262.8\" font-family=\"Helvetica,sans-Serif\" font-size=\"14.00\" fill=\"#000000\">gini = 0.0408</text>\n",
       "<text text-anchor=\"start\" x=\"157.0483\" y=\"-248.8\" font-family=\"Helvetica,sans-Serif\" font-size=\"14.00\" fill=\"#000000\">samples = 48</text>\n",
       "<text text-anchor=\"start\" x=\"146.9243\" y=\"-234.8\" font-family=\"Helvetica,sans-Serif\" font-size=\"14.00\" fill=\"#000000\">value = [0, 47, 1]</text>\n",
       "<text text-anchor=\"start\" x=\"145\" y=\"-220.8\" font-family=\"Helvetica,sans-Serif\" font-size=\"14.00\" fill=\"#000000\">class = versicolor</text>\n",
       "</g>\n",
       "<!-- 3&#45;&gt;4 -->\n",
       "<g id=\"edge4\" class=\"edge\">\n",
       "<title>3&#45;&gt;4</title>\n",
       "<path fill=\"none\" stroke=\"#000000\" d=\"M345.4455,-327.9272C325.7649,-317.8662 304.4614,-306.9757 284.3538,-296.6965\"/>\n",
       "<polygon fill=\"#000000\" stroke=\"#000000\" points=\"285.7067,-293.4572 275.2095,-292.0218 282.5204,-299.69 285.7067,-293.4572\"/>\n",
       "</g>\n",
       "<!-- 7 -->\n",
       "<g id=\"node8\" class=\"node\">\n",
       "<title>7</title>\n",
       "<path fill=\"#8139e5\" fill-opacity=\"0.498039\" stroke=\"#000000\" d=\"M488.3958,-292C488.3958,-292 355.3591,-292 355.3591,-292 349.3591,-292 343.3591,-286 343.3591,-280 343.3591,-280 343.3591,-226 343.3591,-226 343.3591,-220 349.3591,-214 355.3591,-214 355.3591,-214 488.3958,-214 488.3958,-214 494.3958,-214 500.3958,-220 500.3958,-226 500.3958,-226 500.3958,-280 500.3958,-280 500.3958,-286 494.3958,-292 488.3958,-292\"/>\n",
       "<text text-anchor=\"start\" x=\"351.1187\" y=\"-276.8\" font-family=\"Helvetica,sans-Serif\" font-size=\"14.00\" fill=\"#000000\">petal width (cm) ≤ 1.55</text>\n",
       "<text text-anchor=\"start\" x=\"381.5933\" y=\"-262.8\" font-family=\"Helvetica,sans-Serif\" font-size=\"14.00\" fill=\"#000000\">gini = 0.4444</text>\n",
       "<text text-anchor=\"start\" x=\"383.9414\" y=\"-248.8\" font-family=\"Helvetica,sans-Serif\" font-size=\"14.00\" fill=\"#000000\">samples = 6</text>\n",
       "<text text-anchor=\"start\" x=\"373.8174\" y=\"-234.8\" font-family=\"Helvetica,sans-Serif\" font-size=\"14.00\" fill=\"#000000\">value = [0, 2, 4]</text>\n",
       "<text text-anchor=\"start\" x=\"372.2759\" y=\"-220.8\" font-family=\"Helvetica,sans-Serif\" font-size=\"14.00\" fill=\"#000000\">class = virginica</text>\n",
       "</g>\n",
       "<!-- 3&#45;&gt;7 -->\n",
       "<g id=\"edge7\" class=\"edge\">\n",
       "<title>3&#45;&gt;7</title>\n",
       "<path fill=\"none\" stroke=\"#000000\" d=\"M421.8774,-327.7677C421.8774,-319.6172 421.8774,-310.9283 421.8774,-302.4649\"/>\n",
       "<polygon fill=\"#000000\" stroke=\"#000000\" points=\"425.3775,-302.3046 421.8774,-292.3046 418.3775,-302.3047 425.3775,-302.3046\"/>\n",
       "</g>\n",
       "<!-- 5 -->\n",
       "<g id=\"node6\" class=\"node\">\n",
       "<title>5</title>\n",
       "<path fill=\"#39e581\" stroke=\"#000000\" d=\"M111.6326,-171C111.6326,-171 12.1223,-171 12.1223,-171 6.1223,-171 .1223,-165 .1223,-159 .1223,-159 .1223,-119 .1223,-119 .1223,-113 6.1223,-107 12.1223,-107 12.1223,-107 111.6326,-107 111.6326,-107 117.6326,-107 123.6326,-113 123.6326,-119 123.6326,-119 123.6326,-159 123.6326,-159 123.6326,-165 117.6326,-171 111.6326,-171\"/>\n",
       "<text text-anchor=\"start\" x=\"33.2725\" y=\"-155.8\" font-family=\"Helvetica,sans-Serif\" font-size=\"14.00\" fill=\"#000000\">gini = 0.0</text>\n",
       "<text text-anchor=\"start\" x=\"20.0483\" y=\"-141.8\" font-family=\"Helvetica,sans-Serif\" font-size=\"14.00\" fill=\"#000000\">samples = 47</text>\n",
       "<text text-anchor=\"start\" x=\"9.9243\" y=\"-127.8\" font-family=\"Helvetica,sans-Serif\" font-size=\"14.00\" fill=\"#000000\">value = [0, 47, 0]</text>\n",
       "<text text-anchor=\"start\" x=\"8\" y=\"-113.8\" font-family=\"Helvetica,sans-Serif\" font-size=\"14.00\" fill=\"#000000\">class = versicolor</text>\n",
       "</g>\n",
       "<!-- 4&#45;&gt;5 -->\n",
       "<g id=\"edge5\" class=\"edge\">\n",
       "<title>4&#45;&gt;5</title>\n",
       "<path fill=\"none\" stroke=\"#000000\" d=\"M151.7298,-213.7677C137.7541,-202.1383 122.4609,-189.4125 108.5175,-177.81\"/>\n",
       "<polygon fill=\"#000000\" stroke=\"#000000\" points=\"110.4096,-174.8312 100.484,-171.1252 105.9321,-180.2119 110.4096,-174.8312\"/>\n",
       "</g>\n",
       "<!-- 6 -->\n",
       "<g id=\"node7\" class=\"node\">\n",
       "<title>6</title>\n",
       "<path fill=\"#8139e5\" stroke=\"#000000\" d=\"M244.5807,-171C244.5807,-171 153.1741,-171 153.1741,-171 147.1741,-171 141.1741,-165 141.1741,-159 141.1741,-159 141.1741,-119 141.1741,-119 141.1741,-113 147.1741,-107 153.1741,-107 153.1741,-107 244.5807,-107 244.5807,-107 250.5807,-107 256.5807,-113 256.5807,-119 256.5807,-119 256.5807,-159 256.5807,-159 256.5807,-165 250.5807,-171 244.5807,-171\"/>\n",
       "<text text-anchor=\"start\" x=\"170.2725\" y=\"-155.8\" font-family=\"Helvetica,sans-Serif\" font-size=\"14.00\" fill=\"#000000\">gini = 0.0</text>\n",
       "<text text-anchor=\"start\" x=\"160.9414\" y=\"-141.8\" font-family=\"Helvetica,sans-Serif\" font-size=\"14.00\" fill=\"#000000\">samples = 1</text>\n",
       "<text text-anchor=\"start\" x=\"150.8174\" y=\"-127.8\" font-family=\"Helvetica,sans-Serif\" font-size=\"14.00\" fill=\"#000000\">value = [0, 0, 1]</text>\n",
       "<text text-anchor=\"start\" x=\"149.2759\" y=\"-113.8\" font-family=\"Helvetica,sans-Serif\" font-size=\"14.00\" fill=\"#000000\">class = virginica</text>\n",
       "</g>\n",
       "<!-- 4&#45;&gt;6 -->\n",
       "<g id=\"edge6\" class=\"edge\">\n",
       "<title>4&#45;&gt;6</title>\n",
       "<path fill=\"none\" stroke=\"#000000\" d=\"M198.8774,-213.7677C198.8774,-203.3338 198.8774,-192.0174 198.8774,-181.4215\"/>\n",
       "<polygon fill=\"#000000\" stroke=\"#000000\" points=\"202.3775,-181.1252 198.8774,-171.1252 195.3775,-181.1252 202.3775,-181.1252\"/>\n",
       "</g>\n",
       "<!-- 8 -->\n",
       "<g id=\"node9\" class=\"node\">\n",
       "<title>8</title>\n",
       "<path fill=\"#8139e5\" stroke=\"#000000\" d=\"M377.5807,-171C377.5807,-171 286.1741,-171 286.1741,-171 280.1741,-171 274.1741,-165 274.1741,-159 274.1741,-159 274.1741,-119 274.1741,-119 274.1741,-113 280.1741,-107 286.1741,-107 286.1741,-107 377.5807,-107 377.5807,-107 383.5807,-107 389.5807,-113 389.5807,-119 389.5807,-119 389.5807,-159 389.5807,-159 389.5807,-165 383.5807,-171 377.5807,-171\"/>\n",
       "<text text-anchor=\"start\" x=\"303.2725\" y=\"-155.8\" font-family=\"Helvetica,sans-Serif\" font-size=\"14.00\" fill=\"#000000\">gini = 0.0</text>\n",
       "<text text-anchor=\"start\" x=\"293.9414\" y=\"-141.8\" font-family=\"Helvetica,sans-Serif\" font-size=\"14.00\" fill=\"#000000\">samples = 3</text>\n",
       "<text text-anchor=\"start\" x=\"283.8174\" y=\"-127.8\" font-family=\"Helvetica,sans-Serif\" font-size=\"14.00\" fill=\"#000000\">value = [0, 0, 3]</text>\n",
       "<text text-anchor=\"start\" x=\"282.2759\" y=\"-113.8\" font-family=\"Helvetica,sans-Serif\" font-size=\"14.00\" fill=\"#000000\">class = virginica</text>\n",
       "</g>\n",
       "<!-- 7&#45;&gt;8 -->\n",
       "<g id=\"edge8\" class=\"edge\">\n",
       "<title>7&#45;&gt;8</title>\n",
       "<path fill=\"none\" stroke=\"#000000\" d=\"M390.9045,-213.7677C382.0667,-202.573 372.4267,-190.3624 363.5478,-179.1158\"/>\n",
       "<polygon fill=\"#000000\" stroke=\"#000000\" points=\"366.183,-176.8053 357.2394,-171.1252 360.6888,-181.1428 366.183,-176.8053\"/>\n",
       "</g>\n",
       "<!-- 9 -->\n",
       "<g id=\"node10\" class=\"node\">\n",
       "<title>9</title>\n",
       "<path fill=\"#39e581\" fill-opacity=\"0.498039\" stroke=\"#000000\" d=\"M558.3569,-178C558.3569,-178 419.3979,-178 419.3979,-178 413.3979,-178 407.3979,-172 407.3979,-166 407.3979,-166 407.3979,-112 407.3979,-112 407.3979,-106 413.3979,-100 419.3979,-100 419.3979,-100 558.3569,-100 558.3569,-100 564.3569,-100 570.3569,-106 570.3569,-112 570.3569,-112 570.3569,-166 570.3569,-166 570.3569,-172 564.3569,-178 558.3569,-178\"/>\n",
       "<text text-anchor=\"start\" x=\"415.3877\" y=\"-162.8\" font-family=\"Helvetica,sans-Serif\" font-size=\"14.00\" fill=\"#000000\">petal length (cm) ≤ 5.45</text>\n",
       "<text text-anchor=\"start\" x=\"448.5933\" y=\"-148.8\" font-family=\"Helvetica,sans-Serif\" font-size=\"14.00\" fill=\"#000000\">gini = 0.4444</text>\n",
       "<text text-anchor=\"start\" x=\"450.9414\" y=\"-134.8\" font-family=\"Helvetica,sans-Serif\" font-size=\"14.00\" fill=\"#000000\">samples = 3</text>\n",
       "<text text-anchor=\"start\" x=\"440.8174\" y=\"-120.8\" font-family=\"Helvetica,sans-Serif\" font-size=\"14.00\" fill=\"#000000\">value = [0, 2, 1]</text>\n",
       "<text text-anchor=\"start\" x=\"435\" y=\"-106.8\" font-family=\"Helvetica,sans-Serif\" font-size=\"14.00\" fill=\"#000000\">class = versicolor</text>\n",
       "</g>\n",
       "<!-- 7&#45;&gt;9 -->\n",
       "<g id=\"edge9\" class=\"edge\">\n",
       "<title>7&#45;&gt;9</title>\n",
       "<path fill=\"none\" stroke=\"#000000\" d=\"M444.935,-213.7677C449.9884,-205.1694 455.394,-195.9718 460.6246,-187.072\"/>\n",
       "<polygon fill=\"#000000\" stroke=\"#000000\" points=\"463.7279,-188.6994 465.7773,-178.3046 457.6929,-185.1525 463.7279,-188.6994\"/>\n",
       "</g>\n",
       "<!-- 10 -->\n",
       "<g id=\"node11\" class=\"node\">\n",
       "<title>10</title>\n",
       "<path fill=\"#39e581\" stroke=\"#000000\" d=\"M469.6326,-64C469.6326,-64 370.1223,-64 370.1223,-64 364.1223,-64 358.1223,-58 358.1223,-52 358.1223,-52 358.1223,-12 358.1223,-12 358.1223,-6 364.1223,0 370.1223,0 370.1223,0 469.6326,0 469.6326,0 475.6326,0 481.6326,-6 481.6326,-12 481.6326,-12 481.6326,-52 481.6326,-52 481.6326,-58 475.6326,-64 469.6326,-64\"/>\n",
       "<text text-anchor=\"start\" x=\"391.2725\" y=\"-48.8\" font-family=\"Helvetica,sans-Serif\" font-size=\"14.00\" fill=\"#000000\">gini = 0.0</text>\n",
       "<text text-anchor=\"start\" x=\"381.9414\" y=\"-34.8\" font-family=\"Helvetica,sans-Serif\" font-size=\"14.00\" fill=\"#000000\">samples = 2</text>\n",
       "<text text-anchor=\"start\" x=\"371.8174\" y=\"-20.8\" font-family=\"Helvetica,sans-Serif\" font-size=\"14.00\" fill=\"#000000\">value = [0, 2, 0]</text>\n",
       "<text text-anchor=\"start\" x=\"366\" y=\"-6.8\" font-family=\"Helvetica,sans-Serif\" font-size=\"14.00\" fill=\"#000000\">class = versicolor</text>\n",
       "</g>\n",
       "<!-- 9&#45;&gt;10 -->\n",
       "<g id=\"edge10\" class=\"edge\">\n",
       "<title>9&#45;&gt;10</title>\n",
       "<path fill=\"none\" stroke=\"#000000\" d=\"M463.5762,-99.7647C457.9223,-90.9971 451.9128,-81.678 446.2179,-72.8469\"/>\n",
       "<polygon fill=\"#000000\" stroke=\"#000000\" points=\"449.0138,-70.7242 440.6528,-64.2169 443.1309,-74.5178 449.0138,-70.7242\"/>\n",
       "</g>\n",
       "<!-- 11 -->\n",
       "<g id=\"node12\" class=\"node\">\n",
       "<title>11</title>\n",
       "<path fill=\"#8139e5\" stroke=\"#000000\" d=\"M602.5807,-64C602.5807,-64 511.1741,-64 511.1741,-64 505.1741,-64 499.1741,-58 499.1741,-52 499.1741,-52 499.1741,-12 499.1741,-12 499.1741,-6 505.1741,0 511.1741,0 511.1741,0 602.5807,0 602.5807,0 608.5807,0 614.5807,-6 614.5807,-12 614.5807,-12 614.5807,-52 614.5807,-52 614.5807,-58 608.5807,-64 602.5807,-64\"/>\n",
       "<text text-anchor=\"start\" x=\"528.2725\" y=\"-48.8\" font-family=\"Helvetica,sans-Serif\" font-size=\"14.00\" fill=\"#000000\">gini = 0.0</text>\n",
       "<text text-anchor=\"start\" x=\"518.9414\" y=\"-34.8\" font-family=\"Helvetica,sans-Serif\" font-size=\"14.00\" fill=\"#000000\">samples = 1</text>\n",
       "<text text-anchor=\"start\" x=\"508.8174\" y=\"-20.8\" font-family=\"Helvetica,sans-Serif\" font-size=\"14.00\" fill=\"#000000\">value = [0, 0, 1]</text>\n",
       "<text text-anchor=\"start\" x=\"507.2759\" y=\"-6.8\" font-family=\"Helvetica,sans-Serif\" font-size=\"14.00\" fill=\"#000000\">class = virginica</text>\n",
       "</g>\n",
       "<!-- 9&#45;&gt;11 -->\n",
       "<g id=\"edge11\" class=\"edge\">\n",
       "<title>9&#45;&gt;11</title>\n",
       "<path fill=\"none\" stroke=\"#000000\" d=\"M513.812,-99.7647C519.384,-90.9971 525.3064,-81.678 530.9187,-72.8469\"/>\n",
       "<polygon fill=\"#000000\" stroke=\"#000000\" points=\"533.9934,-74.534 536.4032,-64.2169 528.0855,-70.7795 533.9934,-74.534\"/>\n",
       "</g>\n",
       "<!-- 13 -->\n",
       "<g id=\"node14\" class=\"node\">\n",
       "<title>13</title>\n",
       "<path fill=\"#8139e5\" fill-opacity=\"0.498039\" stroke=\"#000000\" d=\"M720.9673,-292C720.9673,-292 578.7876,-292 578.7876,-292 572.7876,-292 566.7876,-286 566.7876,-280 566.7876,-280 566.7876,-226 566.7876,-226 566.7876,-220 572.7876,-214 578.7876,-214 578.7876,-214 720.9673,-214 720.9673,-214 726.9673,-214 732.9673,-220 732.9673,-226 732.9673,-226 732.9673,-280 732.9673,-280 732.9673,-286 726.9673,-292 720.9673,-292\"/>\n",
       "<text text-anchor=\"start\" x=\"574.8325\" y=\"-276.8\" font-family=\"Helvetica,sans-Serif\" font-size=\"14.00\" fill=\"#000000\">sepal length (cm) ≤ 5.95</text>\n",
       "<text text-anchor=\"start\" x=\"609.5933\" y=\"-262.8\" font-family=\"Helvetica,sans-Serif\" font-size=\"14.00\" fill=\"#000000\">gini = 0.4444</text>\n",
       "<text text-anchor=\"start\" x=\"611.9414\" y=\"-248.8\" font-family=\"Helvetica,sans-Serif\" font-size=\"14.00\" fill=\"#000000\">samples = 3</text>\n",
       "<text text-anchor=\"start\" x=\"601.8174\" y=\"-234.8\" font-family=\"Helvetica,sans-Serif\" font-size=\"14.00\" fill=\"#000000\">value = [0, 1, 2]</text>\n",
       "<text text-anchor=\"start\" x=\"600.2759\" y=\"-220.8\" font-family=\"Helvetica,sans-Serif\" font-size=\"14.00\" fill=\"#000000\">class = virginica</text>\n",
       "</g>\n",
       "<!-- 12&#45;&gt;13 -->\n",
       "<g id=\"edge13\" class=\"edge\">\n",
       "<title>12&#45;&gt;13</title>\n",
       "<path fill=\"none\" stroke=\"#000000\" d=\"M649.8774,-327.7677C649.8774,-319.6172 649.8774,-310.9283 649.8774,-302.4649\"/>\n",
       "<polygon fill=\"#000000\" stroke=\"#000000\" points=\"653.3775,-302.3046 649.8774,-292.3046 646.3775,-302.3047 653.3775,-302.3046\"/>\n",
       "</g>\n",
       "<!-- 16 -->\n",
       "<g id=\"node17\" class=\"node\">\n",
       "<title>16</title>\n",
       "<path fill=\"#8139e5\" stroke=\"#000000\" d=\"M858.7837,-285C858.7837,-285 762.9712,-285 762.9712,-285 756.9712,-285 750.9712,-279 750.9712,-273 750.9712,-273 750.9712,-233 750.9712,-233 750.9712,-227 756.9712,-221 762.9712,-221 762.9712,-221 858.7837,-221 858.7837,-221 864.7837,-221 870.7837,-227 870.7837,-233 870.7837,-233 870.7837,-273 870.7837,-273 870.7837,-279 864.7837,-285 858.7837,-285\"/>\n",
       "<text text-anchor=\"start\" x=\"782.2725\" y=\"-269.8\" font-family=\"Helvetica,sans-Serif\" font-size=\"14.00\" fill=\"#000000\">gini = 0.0</text>\n",
       "<text text-anchor=\"start\" x=\"769.0483\" y=\"-255.8\" font-family=\"Helvetica,sans-Serif\" font-size=\"14.00\" fill=\"#000000\">samples = 43</text>\n",
       "<text text-anchor=\"start\" x=\"758.9243\" y=\"-241.8\" font-family=\"Helvetica,sans-Serif\" font-size=\"14.00\" fill=\"#000000\">value = [0, 0, 43]</text>\n",
       "<text text-anchor=\"start\" x=\"761.2759\" y=\"-227.8\" font-family=\"Helvetica,sans-Serif\" font-size=\"14.00\" fill=\"#000000\">class = virginica</text>\n",
       "</g>\n",
       "<!-- 12&#45;&gt;16 -->\n",
       "<g id=\"edge16\" class=\"edge\">\n",
       "<title>12&#45;&gt;16</title>\n",
       "<path fill=\"none\" stroke=\"#000000\" d=\"M705.2845,-327.7677C722.0155,-315.9209 740.3533,-302.9364 756.984,-291.1606\"/>\n",
       "<polygon fill=\"#000000\" stroke=\"#000000\" points=\"759.369,-293.7604 765.5076,-285.1252 755.3238,-288.0476 759.369,-293.7604\"/>\n",
       "</g>\n",
       "<!-- 14 -->\n",
       "<g id=\"node15\" class=\"node\">\n",
       "<title>14</title>\n",
       "<path fill=\"#39e581\" stroke=\"#000000\" d=\"M699.6326,-171C699.6326,-171 600.1223,-171 600.1223,-171 594.1223,-171 588.1223,-165 588.1223,-159 588.1223,-159 588.1223,-119 588.1223,-119 588.1223,-113 594.1223,-107 600.1223,-107 600.1223,-107 699.6326,-107 699.6326,-107 705.6326,-107 711.6326,-113 711.6326,-119 711.6326,-119 711.6326,-159 711.6326,-159 711.6326,-165 705.6326,-171 699.6326,-171\"/>\n",
       "<text text-anchor=\"start\" x=\"621.2725\" y=\"-155.8\" font-family=\"Helvetica,sans-Serif\" font-size=\"14.00\" fill=\"#000000\">gini = 0.0</text>\n",
       "<text text-anchor=\"start\" x=\"611.9414\" y=\"-141.8\" font-family=\"Helvetica,sans-Serif\" font-size=\"14.00\" fill=\"#000000\">samples = 1</text>\n",
       "<text text-anchor=\"start\" x=\"601.8174\" y=\"-127.8\" font-family=\"Helvetica,sans-Serif\" font-size=\"14.00\" fill=\"#000000\">value = [0, 1, 0]</text>\n",
       "<text text-anchor=\"start\" x=\"596\" y=\"-113.8\" font-family=\"Helvetica,sans-Serif\" font-size=\"14.00\" fill=\"#000000\">class = versicolor</text>\n",
       "</g>\n",
       "<!-- 13&#45;&gt;14 -->\n",
       "<g id=\"edge14\" class=\"edge\">\n",
       "<title>13&#45;&gt;14</title>\n",
       "<path fill=\"none\" stroke=\"#000000\" d=\"M649.8774,-213.7677C649.8774,-203.3338 649.8774,-192.0174 649.8774,-181.4215\"/>\n",
       "<polygon fill=\"#000000\" stroke=\"#000000\" points=\"653.3775,-181.1252 649.8774,-171.1252 646.3775,-181.1252 653.3775,-181.1252\"/>\n",
       "</g>\n",
       "<!-- 15 -->\n",
       "<g id=\"node16\" class=\"node\">\n",
       "<title>15</title>\n",
       "<path fill=\"#8139e5\" stroke=\"#000000\" d=\"M832.5807,-171C832.5807,-171 741.1741,-171 741.1741,-171 735.1741,-171 729.1741,-165 729.1741,-159 729.1741,-159 729.1741,-119 729.1741,-119 729.1741,-113 735.1741,-107 741.1741,-107 741.1741,-107 832.5807,-107 832.5807,-107 838.5807,-107 844.5807,-113 844.5807,-119 844.5807,-119 844.5807,-159 844.5807,-159 844.5807,-165 838.5807,-171 832.5807,-171\"/>\n",
       "<text text-anchor=\"start\" x=\"758.2725\" y=\"-155.8\" font-family=\"Helvetica,sans-Serif\" font-size=\"14.00\" fill=\"#000000\">gini = 0.0</text>\n",
       "<text text-anchor=\"start\" x=\"748.9414\" y=\"-141.8\" font-family=\"Helvetica,sans-Serif\" font-size=\"14.00\" fill=\"#000000\">samples = 2</text>\n",
       "<text text-anchor=\"start\" x=\"738.8174\" y=\"-127.8\" font-family=\"Helvetica,sans-Serif\" font-size=\"14.00\" fill=\"#000000\">value = [0, 0, 2]</text>\n",
       "<text text-anchor=\"start\" x=\"737.2759\" y=\"-113.8\" font-family=\"Helvetica,sans-Serif\" font-size=\"14.00\" fill=\"#000000\">class = virginica</text>\n",
       "</g>\n",
       "<!-- 13&#45;&gt;15 -->\n",
       "<g id=\"edge15\" class=\"edge\">\n",
       "<title>13&#45;&gt;15</title>\n",
       "<path fill=\"none\" stroke=\"#000000\" d=\"M697.0251,-213.7677C711.0008,-202.1383 726.294,-189.4125 740.2374,-177.81\"/>\n",
       "<polygon fill=\"#000000\" stroke=\"#000000\" points=\"742.8227,-180.2119 748.2708,-171.1252 738.3453,-174.8312 742.8227,-180.2119\"/>\n",
       "</g>\n",
       "</g>\n",
       "</svg>\n"
      ],
      "text/plain": [
       "<graphviz.files.Source at 0x10eab3450>"
      ]
     },
     "execution_count": 85,
     "metadata": {},
     "output_type": "execute_result"
    }
   ],
   "source": [
    "# Sample with iris Data\n",
    "from sklearn.datasets import load_iris\n",
    "from sklearn import tree\n",
    "iris = load_iris()\n",
    "clf = tree.DecisionTreeClassifier()\n",
    "clf = clf.fit(iris.data, iris.target)\n",
    "\n",
    "import graphviz\n",
    "dot_data = tree.export_graphviz(clf, out_file=None) \n",
    "graph = graphviz.Source(dot_data) \n",
    "graph.render(\"iris\") \n",
    "dot_data = tree.export_graphviz(clf, out_file=None, \n",
    "                         feature_names=iris.feature_names,  \n",
    "                         class_names=iris.target_names,  \n",
    "                         filled=True, rounded=True,  \n",
    "                         special_characters=True)  \n",
    "graph = graphviz.Source(dot_data)\n",
    "graph"
   ]
  },
  {
   "cell_type": "code",
   "execution_count": 84,
   "metadata": {},
   "outputs": [
    {
     "data": {
      "text/plain": [
       "1.0"
      ]
     },
     "execution_count": 84,
     "metadata": {},
     "output_type": "execute_result"
    }
   ],
   "source": [
    "# Model validation \n",
    "import numpy as np\n",
    "from sklearn.metrics import accuracy_score\n",
    "pre = clf.predict(iris.data)\n",
    "accuracy_score(iris.target, pre, normalize= True)"
   ]
  },
  {
   "cell_type": "markdown",
   "metadata": {},
   "source": [
    "### model validation\n",
    "\n",
    "Accuracy Score is one of the way of estimate the how the function performs. Based on our model the tree show acuracy rate to 100%. Tree Depth is 6.minimum saple in one node is 1"
   ]
  },
  {
   "cell_type": "markdown",
   "metadata": {},
   "source": [
    "# CHAID Tree ( Chi Square  Automatic Interaction Detector)"
   ]
  },
  {
   "cell_type": "code",
   "execution_count": 1,
   "metadata": {},
   "outputs": [
    {
     "name": "stdout",
     "output_type": "stream",
     "text": [
      "Collecting CHAID\n",
      "  Downloading https://files.pythonhosted.org/packages/e7/2d/09be3a36c26efcdabcc7147cef3af50ccc59d4007b5ab283f176c0431ae5/CHAID-5.0.4.tar.gz\n",
      "Requirement already satisfied: cython in /Users/wenxuanzhang/anaconda/lib/python2.7/site-packages (from CHAID) (0.25.2)\n",
      "Requirement already satisfied: numpy in /Users/wenxuanzhang/anaconda/lib/python2.7/site-packages (from CHAID) (1.13.1)\n",
      "Requirement already satisfied: pandas in /Users/wenxuanzhang/anaconda/lib/python2.7/site-packages (from CHAID) (0.20.1)\n",
      "Collecting treelib (from CHAID)\n",
      "  Downloading https://files.pythonhosted.org/packages/f1/11/19621205d33cbd45a28740eee35754d0d28aba5d829ad20d1d1d2162bcb3/treelib-1.5.1.tar.gz\n",
      "Requirement already satisfied: pytest in /Users/wenxuanzhang/anaconda/lib/python2.7/site-packages (from CHAID) (3.0.7)\n",
      "Requirement already satisfied: scipy in /Users/wenxuanzhang/anaconda/lib/python2.7/site-packages (from CHAID) (0.19.0)\n",
      "Collecting savReaderWriter (from CHAID)\n",
      "\u001b[?25l  Downloading https://files.pythonhosted.org/packages/56/2b/d7c2f50a5756cbf32f8a095c4950749753ad10f58a6301734225b0ac1ddc/savReaderWriter-3.4.2.tar.gz (50.9MB)\n",
      "\u001b[K    100% |████████████████████████████████| 50.9MB 329kB/s ta 0:00:011\n",
      "\u001b[?25hRequirement already satisfied: python-dateutil in /Users/wenxuanzhang/.local/lib/python2.7/site-packages (from pandas->CHAID) (2.7.2)\n",
      "Requirement already satisfied: pytz>=2011k in /Users/wenxuanzhang/.local/lib/python2.7/site-packages (from pandas->CHAID) (2018.3)\n",
      "Requirement already satisfied: py>=1.4.29 in /Users/wenxuanzhang/anaconda/lib/python2.7/site-packages (from pytest->CHAID) (1.4.33)\n",
      "Requirement already satisfied: setuptools in /Users/wenxuanzhang/.local/lib/python2.7/site-packages (from pytest->CHAID) (39.0.1)\n",
      "Requirement already satisfied: six>=1.5 in /Users/wenxuanzhang/anaconda/lib/python2.7/site-packages (from python-dateutil->pandas->CHAID) (1.11.0)\n",
      "Building wheels for collected packages: CHAID, treelib, savReaderWriter\n",
      "  Running setup.py bdist_wheel for CHAID ... \u001b[?25ldone\n",
      "\u001b[?25h  Stored in directory: /Users/wenxuanzhang/Library/Caches/pip/wheels/46/a2/5d/3d2656e54904d94d80f2d4c313e86cde8e2ed45e5b7fa4285f\n",
      "  Running setup.py bdist_wheel for treelib ... \u001b[?25ldone\n",
      "\u001b[?25h  Stored in directory: /Users/wenxuanzhang/Library/Caches/pip/wheels/db/ea/4e/d384c13ddd6c64110ca8ad4a3f7b05c4455d59678b0770fdcc\n",
      "  Running setup.py bdist_wheel for savReaderWriter ... \u001b[?25ldone\n",
      "\u001b[?25h  Stored in directory: /Users/wenxuanzhang/Library/Caches/pip/wheels/cc/c5/c2/25171e344dff66668d68736623515b77ecda30dc399270c9ed\n",
      "Successfully built CHAID treelib savReaderWriter\n",
      "\u001b[31minstagramapi 1.0.2 has requirement requests==2.11.1, but you'll have requests 2.18.4 which is incompatible.\u001b[0m\n",
      "\u001b[31mmoviepy 0.2.3.2 has requirement tqdm==4.11.2, but you'll have tqdm 4.19.8 which is incompatible.\u001b[0m\n",
      "\u001b[31minstagram-scraper 1.5.20 has requirement futures==2.2, but you'll have futures 3.2.0 which is incompatible.\u001b[0m\n",
      "\u001b[31mgrpcio 1.9.1 has requirement protobuf>=3.5.0.post1, but you'll have protobuf 3.4.0 which is incompatible.\u001b[0m\n",
      "Installing collected packages: treelib, savReaderWriter, CHAID\n",
      "Successfully installed CHAID-5.0.4 savReaderWriter-3.4.2 treelib-1.5.1\n"
     ]
    }
   ],
   "source": [
    "# Implement the Tree Algorithm with Credit Default Data"
   ]
  },
  {
   "cell_type": "code",
   "execution_count": 2,
   "metadata": {
    "scrolled": true
   },
   "outputs": [
    {
     "ename": "SyntaxError",
     "evalue": "invalid syntax (<ipython-input-2-7a12210815f3>, line 7)",
     "output_type": "error",
     "traceback": [
      "\u001b[0;36m  File \u001b[0;32m\"<ipython-input-2-7a12210815f3>\"\u001b[0;36m, line \u001b[0;32m7\u001b[0m\n\u001b[0;31m    table(termCrosssell$housing)\u001b[0m\n\u001b[0m                       ^\u001b[0m\n\u001b[0;31mSyntaxError\u001b[0m\u001b[0;31m:\u001b[0m invalid syntax\n"
     ]
    }
   ],
   "source": [
    "\n"
   ]
  },
  {
   "cell_type": "markdown",
   "metadata": {},
   "source": [
    "[Incorporate R code in markdonw](https://www.datacamp.com/community/blog/jupyter-notebook-r#gs.z0gxLNc)"
   ]
  },
  {
   "cell_type": "code",
   "execution_count": null,
   "metadata": {
    "collapsed": true
   },
   "outputs": [],
   "source": []
  }
 ],
 "metadata": {
  "kernelspec": {
   "display_name": "Python 2",
   "language": "python",
   "name": "python2"
  },
  "language_info": {
   "codemirror_mode": {
    "name": "ipython",
    "version": 2
   },
   "file_extension": ".py",
   "mimetype": "text/x-python",
   "name": "python",
   "nbconvert_exporter": "python",
   "pygments_lexer": "ipython2",
   "version": "2.7.13"
  }
 },
 "nbformat": 4,
 "nbformat_minor": 2
}
